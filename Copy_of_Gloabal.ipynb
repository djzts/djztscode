{
  "nbformat": 4,
  "nbformat_minor": 0,
  "metadata": {
    "colab": {
      "name": "Copy of Gloabal.ipynb",
      "provenance": [],
      "collapsed_sections": [],
      "authorship_tag": "ABX9TyPiCmlNab0F8qHbjpQdqs6r",
      "include_colab_link": true
    },
    "kernelspec": {
      "name": "python3",
      "display_name": "Python 3"
    },
    "language_info": {
      "name": "python"
    }
  },
  "cells": [
    {
      "cell_type": "markdown",
      "metadata": {
        "id": "view-in-github",
        "colab_type": "text"
      },
      "source": [
        "<a href=\"https://colab.research.google.com/github/djzts/djztscode/blob/master/Copy_of_Gloabal.ipynb\" target=\"_parent\"><img src=\"https://colab.research.google.com/assets/colab-badge.svg\" alt=\"Open In Colab\"/></a>"
      ]
    },
    {
      "cell_type": "code",
      "execution_count": null,
      "metadata": {
        "id": "WAphwfcJDOLa",
        "colab": {
          "base_uri": "https://localhost:8080/"
        },
        "outputId": "e3162d22-3c73-4095-b4c5-de146b417ed9"
      },
      "outputs": [
        {
          "output_type": "stream",
          "name": "stdout",
          "text": [
            "Collecting pyspark\n",
            "  Downloading pyspark-3.2.1.tar.gz (281.4 MB)\n",
            "\u001b[K     |████████████████████████████████| 281.4 MB 35 kB/s \n",
            "\u001b[?25hCollecting py4j==0.10.9.3\n",
            "  Downloading py4j-0.10.9.3-py2.py3-none-any.whl (198 kB)\n",
            "\u001b[K     |████████████████████████████████| 198 kB 60.7 MB/s \n",
            "\u001b[?25hBuilding wheels for collected packages: pyspark\n",
            "  Building wheel for pyspark (setup.py) ... \u001b[?25l\u001b[?25hdone\n",
            "  Created wheel for pyspark: filename=pyspark-3.2.1-py2.py3-none-any.whl size=281853642 sha256=d9d262a661ff2b9b32c1b229dbf95228df1df8a51332d6178f6691b53dbb2e1b\n",
            "  Stored in directory: /root/.cache/pip/wheels/9f/f5/07/7cd8017084dce4e93e84e92efd1e1d5334db05f2e83bcef74f\n",
            "Successfully built pyspark\n",
            "Installing collected packages: py4j, pyspark\n",
            "Successfully installed py4j-0.10.9.3 pyspark-3.2.1\n"
          ]
        }
      ],
      "source": [
        "pip install pyspark"
      ]
    },
    {
      "cell_type": "code",
      "source": [
        "pip install countrygroups"
      ],
      "metadata": {
        "colab": {
          "base_uri": "https://localhost:8080/"
        },
        "id": "9FXoJJSm_p4U",
        "outputId": "829fbced-a359-4756-cd7c-eb6923570793"
      },
      "execution_count": null,
      "outputs": [
        {
          "output_type": "stream",
          "name": "stdout",
          "text": [
            "Collecting countrygroups\n",
            "  Downloading countrygroups-0.13.0-py2.py3-none-any.whl (9.6 kB)\n",
            "Collecting shortcountrynames\n",
            "  Downloading shortcountrynames-0.9.0-py2.py3-none-any.whl (8.9 kB)\n",
            "Installing collected packages: shortcountrynames, countrygroups\n",
            "Successfully installed countrygroups-0.13.0 shortcountrynames-0.9.0\n"
          ]
        }
      ]
    },
    {
      "cell_type": "code",
      "source": [
        "pip install pandas"
      ],
      "metadata": {
        "colab": {
          "base_uri": "https://localhost:8080/"
        },
        "id": "JrwH9LzEHhZE",
        "outputId": "1fcdf847-e89c-4de7-fab6-e226d16ad9a9"
      },
      "execution_count": null,
      "outputs": [
        {
          "output_type": "stream",
          "name": "stdout",
          "text": [
            "Requirement already satisfied: pandas in /usr/local/lib/python3.7/dist-packages (1.1.5)\n",
            "Requirement already satisfied: pytz>=2017.2 in /usr/local/lib/python3.7/dist-packages (from pandas) (2018.9)\n",
            "Requirement already satisfied: python-dateutil>=2.7.3 in /usr/local/lib/python3.7/dist-packages (from pandas) (2.8.2)\n",
            "Requirement already satisfied: numpy>=1.15.4 in /usr/local/lib/python3.7/dist-packages (from pandas) (1.19.5)\n",
            "Requirement already satisfied: six>=1.5 in /usr/local/lib/python3.7/dist-packages (from python-dateutil>=2.7.3->pandas) (1.15.0)\n"
          ]
        }
      ]
    },
    {
      "cell_type": "code",
      "source": [
        "pip install pyspark[sql]\n"
      ],
      "metadata": {
        "colab": {
          "base_uri": "https://localhost:8080/"
        },
        "id": "tCl_1x2i3IPA",
        "outputId": "ea77bce7-e951-4453-986f-ced304c95fb3"
      },
      "execution_count": null,
      "outputs": [
        {
          "output_type": "stream",
          "name": "stdout",
          "text": [
            "Requirement already satisfied: pyspark[sql] in /usr/local/lib/python3.7/dist-packages (3.2.1)\n",
            "Requirement already satisfied: py4j==0.10.9.3 in /usr/local/lib/python3.7/dist-packages (from pyspark[sql]) (0.10.9.3)\n",
            "Requirement already satisfied: pandas>=0.23.2 in /usr/local/lib/python3.7/dist-packages (from pyspark[sql]) (1.1.5)\n",
            "Requirement already satisfied: pyarrow>=1.0.0 in /usr/local/lib/python3.7/dist-packages (from pyspark[sql]) (3.0.0)\n",
            "Requirement already satisfied: python-dateutil>=2.7.3 in /usr/local/lib/python3.7/dist-packages (from pandas>=0.23.2->pyspark[sql]) (2.8.2)\n",
            "Requirement already satisfied: pytz>=2017.2 in /usr/local/lib/python3.7/dist-packages (from pandas>=0.23.2->pyspark[sql]) (2018.9)\n",
            "Requirement already satisfied: numpy>=1.15.4 in /usr/local/lib/python3.7/dist-packages (from pandas>=0.23.2->pyspark[sql]) (1.19.5)\n",
            "Requirement already satisfied: six>=1.5 in /usr/local/lib/python3.7/dist-packages (from python-dateutil>=2.7.3->pandas>=0.23.2->pyspark[sql]) (1.15.0)\n"
          ]
        }
      ]
    },
    {
      "cell_type": "code",
      "source": [
        "pip install pyspark[pandas_on_spark] plotly"
      ],
      "metadata": {
        "colab": {
          "base_uri": "https://localhost:8080/"
        },
        "id": "VxbWsGfB3KoJ",
        "outputId": "bebeea2f-2e76-47c9-8b26-aee9509c0078"
      },
      "execution_count": null,
      "outputs": [
        {
          "output_type": "stream",
          "name": "stdout",
          "text": [
            "Requirement already satisfied: pyspark[pandas_on_spark] in /usr/local/lib/python3.7/dist-packages (3.2.1)\n",
            "Requirement already satisfied: plotly in /usr/local/lib/python3.7/dist-packages (5.5.0)\n",
            "Requirement already satisfied: six in /usr/local/lib/python3.7/dist-packages (from plotly) (1.15.0)\n",
            "Requirement already satisfied: tenacity>=6.2.0 in /usr/local/lib/python3.7/dist-packages (from plotly) (8.0.1)\n",
            "Requirement already satisfied: py4j==0.10.9.3 in /usr/local/lib/python3.7/dist-packages (from pyspark[pandas_on_spark]) (0.10.9.3)\n",
            "Requirement already satisfied: numpy>=1.14 in /usr/local/lib/python3.7/dist-packages (from pyspark[pandas_on_spark]) (1.19.5)\n",
            "Requirement already satisfied: pandas>=0.23.2 in /usr/local/lib/python3.7/dist-packages (from pyspark[pandas_on_spark]) (1.1.5)\n",
            "Requirement already satisfied: pyarrow>=1.0.0 in /usr/local/lib/python3.7/dist-packages (from pyspark[pandas_on_spark]) (3.0.0)\n",
            "Requirement already satisfied: pytz>=2017.2 in /usr/local/lib/python3.7/dist-packages (from pandas>=0.23.2->pyspark[pandas_on_spark]) (2018.9)\n",
            "Requirement already satisfied: python-dateutil>=2.7.3 in /usr/local/lib/python3.7/dist-packages (from pandas>=0.23.2->pyspark[pandas_on_spark]) (2.8.2)\n"
          ]
        }
      ]
    },
    {
      "cell_type": "code",
      "source": [
        "from pyspark.sql import SparkSession\n",
        "\n",
        "spark = SparkSession.builder.getOrCreate()"
      ],
      "metadata": {
        "id": "07kV93hj4_PI"
      },
      "execution_count": null,
      "outputs": []
    },
    {
      "cell_type": "code",
      "source": [
        " \n",
        "df = spark.read.option(\"header\", \"true\").csv(\"/content/Data.csv\")\n",
        "df.show()\n",
        "#df.printSchema()"
      ],
      "metadata": {
        "colab": {
          "base_uri": "https://localhost:8080/"
        },
        "id": "QOU1FiW84ZfM",
        "outputId": "e0d4da8d-c6fe-47ae-da3b-a825ba6b1775"
      },
      "execution_count": null,
      "outputs": [
        {
          "output_type": "stream",
          "name": "stdout",
          "text": [
            "+------------+------------+--------------------+-----------------+-------------------+-------------------+-------------------+-------------------+-------------------+-------------------+-------------------+-------------------+------------------+-----------------+-----------------+----------------+----------------+----------------+------------------+------------------+-----------------+----------------+-----------------+-----------------+-----------------+-----------------+-----------------+-------------------+------------------+-----------------+----------------+\n",
            "|Country Name|Country Code|         Series Name|      Series Code|      1990 [YR1990]|      1991 [YR1991]|      1992 [YR1992]|      1993 [YR1993]|      1994 [YR1994]|      1995 [YR1995]|      1996 [YR1996]|      1997 [YR1997]|     1998 [YR1998]|    1999 [YR1999]|    2000 [YR2000]|   2001 [YR2001]|   2002 [YR2002]|   2003 [YR2003]|     2004 [YR2004]|     2005 [YR2005]|    2006 [YR2006]|   2007 [YR2007]|    2008 [YR2008]|    2009 [YR2009]|    2010 [YR2010]|    2011 [YR2011]|    2012 [YR2012]|      2013 [YR2013]|     2014 [YR2014]|    2015 [YR2015]|   2016 [YR2016]|\n",
            "+------------+------------+--------------------+-----------------+-------------------+-------------------+-------------------+-------------------+-------------------+-------------------+-------------------+-------------------+------------------+-----------------+-----------------+----------------+----------------+----------------+------------------+------------------+-----------------+----------------+-----------------+-----------------+-----------------+-----------------+-----------------+-------------------+------------------+-----------------+----------------+\n",
            "| Afghanistan|         AFG|Access to electri...|   EG.ELC.ACCS.ZS|0.00999999977648258|0.00999999977648258|0.00999999977648258|0.00999999977648258|0.00999999977648258|0.00999999977648258|0.00999999977648258|0.00999999977648258|0.0219771377742291|0.179634585976601|0.959755897521973|0.77653694152832|6.26739358901977|11.7519664764404|  17.2363185882568|                23| 28.2286128997803|33.7486801147461|             42.4| 44.8548851013184|             42.7| 43.2220189082037|             69.1|   67.2595520019531|              89.5|             71.5|84.1371383666992|\n",
            "| Afghanistan|         AFG|Adolescent fertil...|      SP.ADO.TFRT|           162.8354|           163.3822|            163.929|           164.1888|           164.4486|           164.7084|           164.9682|            165.228|           161.469|           157.71|          153.951|         150.192|         146.433|        140.6256|          134.8182|          129.0108|         123.2034|         117.396|         111.1414|         104.8868|          98.6322|          92.3776|           86.123|            81.7908|           77.4586|          73.1264|         68.7942|\n",
            "| Afghanistan|         AFG|Age dependency ra...|      SP.POP.DPND|   101.018259850238|    100.96564733016|   100.870231727519|   100.902317661547|   100.887270633256|   100.510118469483|   101.294946055585|     102.0432616212|  102.595062024335| 102.975878585677| 103.326360073965| 102.92777291639|102.153958897486|101.200485082543|  100.159030259816|  99.0118309442354| 99.6320290466377|100.231023134586| 100.656496083108| 100.740812582094| 100.406411520766| 98.7307589652135| 96.5285898367748|   94.0017341230592|  91.3762048564238| 88.7687273393836|86.5709321507136|\n",
            "| Afghanistan|         AFG|Agriculture, valu...|   NV.AGR.TOTL.ZS|                 ..|                 ..|                 ..|                 ..|                 ..|                 ..|                 ..|                 ..|                ..|               ..|               ..|              ..|37.9388206159123|36.8630576799203|  29.3911956273162|  30.7879670650336| 28.2897383137567|29.7989655280121| 24.6938230129889| 29.1359284351699| 26.0782527819623| 23.5779686892153| 23.6436386470918|    22.587453161034|   22.009298022763| 20.5469658803948|20.9658976104561|\n",
            "| Afghanistan|         AFG|Agriculture, valu...|NV.AGR.TOTL.KD.ZG|                 ..|                 ..|                 ..|                 ..|                 ..|                 ..|                 ..|                 ..|                ..|               ..|               ..|              ..|              ..|2.79922332379998| -22.2374972096684|  17.6995562384091|-5.10828004564108|14.6947633410373|-14.9167175639132| 44.5654473278869|-6.37380492600464|-7.59086467916443| 18.2247894194574|0.00517080272992132|-0.100457250332653|-5.65736076451711|5.97175068925613|\n",
            "| Afghanistan|         AFG|Agriculture, valu...|   NV.AGR.TOTL.KD|                 ..|                 ..|                 ..|                 ..|                 ..|                 ..|                 ..|                 ..|                ..|               ..|               ..|              ..|3524250083.91464|3622901714.25262|  2817259046.63666|  3315901395.97778| 3146515866.63392|3608888926.72396| 3070561158.32921| 4438970474.01497| 4156039155.27831| 3840559846.98805| 4540493791.62985|   4540728571.60678|  4536167080.53868| 4279539743.91134|4535103188.06536|\n",
            "| Afghanistan|         AFG|Air transport, re...|      IS.AIR.DPRT|               5300|               5300|               5300|               5100|               7000|               7300|               7500|               4600|              1900|             3400|             3409|              ..|              ..|              ..|                ..|                ..|               ..|              ..|               ..|               ..|            21677|            25021|            17775|              21696|             25920|            23532|           22770|\n",
            "| Afghanistan|         AFG|Automated teller ...|   FB.ATM.TOTL.P5|                 ..|                 ..|                 ..|                 ..|                 ..|                 ..|                 ..|                 ..|                ..|               ..|               ..|              ..|              ..|              ..|0.0158998816253813|0.0608522587027287|0.118134127568762|0.20881807028053| 0.30244953172372|0.452438933768698|0.532063581331937|0.620062869261023|0.642222417403469|  0.712434094736566| 0.758811362173521|0.929836662967983|1.07421538203442|\n",
            "| Afghanistan|         AFG|Borrowers from co...|   FB.CBK.BRWR.P3|                 ..|                 ..|                 ..|                 ..|                 ..|                 ..|                 ..|                 ..|                ..|               ..|               ..|              ..|              ..|              ..|                ..|                ..|               ..|              ..| 3.37976801136197| 3.98351915777259| 3.80232587604102| 3.66597788548973| 4.13750263311191|   3.76912673858008|   3.0250349722766| 2.95869751045318|3.05195383587665|\n",
            "| Afghanistan|         AFG|Consumer price in...|      FP.CPI.TOTL|                 ..|                 ..|                 ..|                 ..|                 ..|                 ..|                 ..|                 ..|                ..|               ..|               ..|              ..|              ..|              ..|  63.1318927309003|  71.1409742918197| 76.3021776776999|82.7748069188245| 108.066600010077| 99.1153588128686|              100| 110.201660141582| 118.156300027034|   127.200357275341|  133.057086584945| 132.117655626068|137.904563672559|\n",
            "| Afghanistan|         AFG|Contributing fami...|SL.FAM.WORK.FE.ZS|                 ..|   49.4230003356934|   51.1469993591309|   60.9059982299805|   67.7409973144531|   61.0250015258789|   63.2309989929199|   65.4759979248047|  67.5370025634766| 69.4990005493164| 71.4240036010742|73.4860000610352|65.6699981689453| 65.640998840332|  67.1360015869141|  66.0830001831055|  65.818000793457|64.0849990844727| 64.2429962158203| 59.8839988708496| 58.7719993591309| 58.2750015258789|  56.298999786377|   56.4939994812012|   57.023998260498|  57.882999420166|58.0439987182617|\n",
            "| Afghanistan|         AFG|Contributing fami...|SL.FAM.WORK.MA.ZS|                 ..|   20.3530006408691|   22.1450004577637|   24.1599998474121|   28.4379997253418|   30.5149993896484|   26.7329998016357|   27.7469997406006|  28.6620006561279| 29.4969997406006| 30.3470001220703|31.2970008850098|32.0190010070801|26.6070003509521|  25.9829998016357|  26.1499996185303| 25.2049999237061|24.6270008087158| 23.4890003204346| 23.2399997711182| 21.4340000152588| 20.8759994506836|  20.238000869751|   19.6849994659424|            19.625| 19.6340007781982|19.7749996185303|\n",
            "| Afghanistan|         AFG|Contributing fami...|   SL.FAM.WORK.ZS|                 ..|   24.3330001831055|   26.0650005340576|   29.1599998474121|   33.7610015869141|   34.4519996643066|   31.5960006713867|   32.7369995117188|  33.7809982299805| 34.7550010681152| 35.7360000610352|36.9140014648438|36.3639984130859|31.8600006103516|   31.628999710083|  31.6509990692139| 30.7169990539551| 29.863000869751| 28.8610000610352| 28.0030002593994| 26.3419990539551| 25.9389991760254| 25.3050003051758|   25.0790004730225|  25.3409996032715| 25.7199993133545|26.0860004425049|\n",
            "| Afghanistan|         AFG|CPIA economic man...|   IQ.CPA.ECON.XQ|                 ..|                 ..|                 ..|                 ..|                 ..|                 ..|                 ..|                 ..|                ..|               ..|               ..|              ..|              ..|              ..|                ..|                ..| 3.33333333333333|3.16666666666667|              3.2| 3.33333333333333|                3|                3|                3|                  3|                 3|                3|               3|\n",
            "| Afghanistan|         AFG|CPIA financial se...|   IQ.CPA.FINS.XQ|                 ..|                 ..|                 ..|                 ..|                 ..|                 ..|                 ..|                 ..|                ..|               ..|               ..|              ..|              ..|              ..|                ..|                ..|                2|               2|              2.5|              2.5|                2|                2|                2|                  2|                 2|                2|               2|\n",
            "| Afghanistan|         AFG|CPIA gender equal...|   IQ.CPA.GNDR.XQ|                 ..|                 ..|                 ..|                 ..|                 ..|                 ..|                 ..|                 ..|                ..|               ..|               ..|              ..|              ..|              ..|                ..|                ..|                2|               2|                2|                2|                2|                2|                2|                1.5|               1.5|              1.5|             1.5|\n",
            "| Afghanistan|         AFG|CPIA macroeconomi...|   IQ.CPA.MACR.XQ|                 ..|                 ..|                 ..|                 ..|                 ..|                 ..|                 ..|                 ..|                ..|               ..|               ..|              ..|              ..|              ..|                ..|                ..|                4|             3.5|              3.5|              3.5|              3.5|              3.5|              3.5|                3.5|               3.5|              3.5|             3.5|\n",
            "| Afghanistan|         AFG|CPIA policies for...|   IQ.CPA.SOCI.XQ|                 ..|                 ..|                 ..|                 ..|                 ..|                 ..|                 ..|                 ..|                ..|               ..|               ..|              ..|              ..|              ..|                ..|                ..|              2.3|             2.3|              2.5|              2.6|              2.6|              2.7|              2.7|                2.6|               2.6|              2.6|             2.6|\n",
            "| Afghanistan|         AFG|CPIA property rig...|   IQ.CPA.PROP.XQ|                 ..|                 ..|                 ..|                 ..|                 ..|                 ..|                 ..|                 ..|                ..|               ..|               ..|              ..|              ..|              ..|                ..|                ..|              1.5|             1.5|              1.5|              1.5|              1.5|              1.5|              1.5|                1.5|               1.5|              1.5|               2|\n",
            "| Afghanistan|         AFG|CPIA social prote...|   IQ.CPA.PROT.XQ|                 ..|                 ..|                 ..|                 ..|                 ..|                 ..|                 ..|                 ..|                ..|               ..|               ..|              ..|              ..|              ..|                ..|                ..|                2|               2|              2.5|              2.5|              2.5|              2.5|              2.5|                2.5|               2.5|              2.5|             2.5|\n",
            "+------------+------------+--------------------+-----------------+-------------------+-------------------+-------------------+-------------------+-------------------+-------------------+-------------------+-------------------+------------------+-----------------+-----------------+----------------+----------------+----------------+------------------+------------------+-----------------+----------------+-----------------+-----------------+-----------------+-----------------+-----------------+-------------------+------------------+-----------------+----------------+\n",
            "only showing top 20 rows\n",
            "\n"
          ]
        }
      ]
    },
    {
      "cell_type": "code",
      "source": [
        "df.printSchema()"
      ],
      "metadata": {
        "colab": {
          "base_uri": "https://localhost:8080/"
        },
        "id": "nU2fM3yE-_N7",
        "outputId": "8c405409-4473-48bf-ca5c-a0f4aadef70c"
      },
      "execution_count": null,
      "outputs": [
        {
          "output_type": "stream",
          "name": "stdout",
          "text": [
            "root\n",
            " |-- Country Name: string (nullable = true)\n",
            " |-- Country Code: string (nullable = true)\n",
            " |-- Series Name: string (nullable = true)\n",
            " |-- Series Code: string (nullable = true)\n",
            " |-- 1990 [YR1990]: string (nullable = true)\n",
            " |-- 1991 [YR1991]: string (nullable = true)\n",
            " |-- 1992 [YR1992]: string (nullable = true)\n",
            " |-- 1993 [YR1993]: string (nullable = true)\n",
            " |-- 1994 [YR1994]: string (nullable = true)\n",
            " |-- 1995 [YR1995]: string (nullable = true)\n",
            " |-- 1996 [YR1996]: string (nullable = true)\n",
            " |-- 1997 [YR1997]: string (nullable = true)\n",
            " |-- 1998 [YR1998]: string (nullable = true)\n",
            " |-- 1999 [YR1999]: string (nullable = true)\n",
            " |-- 2000 [YR2000]: string (nullable = true)\n",
            " |-- 2001 [YR2001]: string (nullable = true)\n",
            " |-- 2002 [YR2002]: string (nullable = true)\n",
            " |-- 2003 [YR2003]: string (nullable = true)\n",
            " |-- 2004 [YR2004]: string (nullable = true)\n",
            " |-- 2005 [YR2005]: string (nullable = true)\n",
            " |-- 2006 [YR2006]: string (nullable = true)\n",
            " |-- 2007 [YR2007]: string (nullable = true)\n",
            " |-- 2008 [YR2008]: string (nullable = true)\n",
            " |-- 2009 [YR2009]: string (nullable = true)\n",
            " |-- 2010 [YR2010]: string (nullable = true)\n",
            " |-- 2011 [YR2011]: string (nullable = true)\n",
            " |-- 2012 [YR2012]: string (nullable = true)\n",
            " |-- 2013 [YR2013]: string (nullable = true)\n",
            " |-- 2014 [YR2014]: string (nullable = true)\n",
            " |-- 2015 [YR2015]: string (nullable = true)\n",
            " |-- 2016 [YR2016]: string (nullable = true)\n",
            "\n"
          ]
        }
      ]
    },
    {
      "cell_type": "code",
      "source": [
        "valid_cell_0 = df[(df[\"Series Name\"]==\"Employers, female (% of female employment) (modeled ILO estimate)\") ]\n",
        "valid_cell_1 = valid_cell_0.select(\"Country Name\",\"Series Name\",\"2010 [YR2010]\")\n",
        "valid_cell_1.show()"
      ],
      "metadata": {
        "colab": {
          "base_uri": "https://localhost:8080/"
        },
        "id": "YdnJamUK33l1",
        "outputId": "b476045a-48ba-4699-9822-3c295995452e"
      },
      "execution_count": null,
      "outputs": [
        {
          "output_type": "stream",
          "name": "stdout",
          "text": [
            "+-------------------+--------------------+-----------------+\n",
            "|       Country Name|         Series Name|    2010 [YR2010]|\n",
            "+-------------------+--------------------+-----------------+\n",
            "|        Afghanistan|Employers, female...|0.287000000476837|\n",
            "|            Albania|Employers, female...|0.509999990463257|\n",
            "|            Algeria|Employers, female...| 1.47000002861023|\n",
            "|     American Samoa|Employers, female...|               ..|\n",
            "|            Andorra|Employers, female...|               ..|\n",
            "|             Angola|Employers, female...| 2.37400007247925|\n",
            "|Antigua and Barbuda|Employers, female...|               ..|\n",
            "|         Arab World|Employers, female...| 1.68518601347555|\n",
            "|          Argentina|Employers, female...| 3.00200009346008|\n",
            "|            Armenia|Employers, female...| 0.14300000667572|\n",
            "|              Aruba|Employers, female...|               ..|\n",
            "|          Australia|Employers, female...| 4.77500009536743|\n",
            "|            Austria|Employers, female...| 2.62700009346008|\n",
            "|         Azerbaijan|Employers, female...| 9.43400001525879|\n",
            "|       Bahamas, The|Employers, female...| 2.54800009727478|\n",
            "|            Bahrain|Employers, female...|0.611999988555908|\n",
            "|         Bangladesh|Employers, female...|0.196999996900558|\n",
            "|           Barbados|Employers, female...|0.620000004768372|\n",
            "|            Belarus|Employers, female...|0.689999997615814|\n",
            "|            Belgium|Employers, female...| 2.41199994087219|\n",
            "+-------------------+--------------------+-----------------+\n",
            "only showing top 20 rows\n",
            "\n"
          ]
        }
      ]
    },
    {
      "cell_type": "code",
      "source": [
        "Sub_Saharan_Africa = [\"Angola\", \"Benin\", \"Botswana\", \"Burkina Faso\", \"Burundi\", \"Cape Verde\", \"Cameroon\", \"Central African Republic\", \"Chad\", \"Comoros\", \"the Democratic Republic of the Congo\", \"Republic of the Congo\", \n",
        "                      \"Cote d'Ivoire\", \"Djibouti\", \"Equatorial Guinea\", \"Eritrea\", \"Ethiopia\", \"Gabon\", \"Gambia\", \"Ghana\", \"Guinea\", \"Guinea-Bissau\", \"Kenya\", \"Lesotho\", \"Liberia\", \"Madagascar\", \"Malawi\", \"Mali\", \"Mauritania\", \n",
        "                      \"Mauritius\", \"Mozambique\", \"Namibia\", \"Niger\", \"Nigeria\", \"Rwanda\", \"Sao Tome and Principe\", \"Senegal\", \"Seychelles\", \"Sierra Leone\", \"Somalia\", \"South Africa\", \"South Sudan\", \"Sudan\", \"Swaziland\", \n",
        "                      \"Tanzania\", \"Togo\", \"Uganda\", \"Zambia\", \"Zimbabwe\"]\n",
        "\n",
        "Europe = ['Austria', 'Belgium', 'Bulgaria', 'Croatia', 'Cyprus', 'Czechia', 'Denmark',\n",
        "   'Estonia', 'Finland', 'France', 'Germany', 'Greece', 'Hungary', 'Ireland',\n",
        "   'Italy', 'Latvia', 'Lithuania', 'Luxembourg', 'Malta', 'Netherlands',\n",
        "   'Poland', 'Portugal', 'Romania', 'Slovakia', 'Slovenia', 'Spain', 'Sweden']\n",
        "\n",
        "\n",
        "Central_Asia = [Kazakhstan, Kyrgyzstan, Tajikistan, Turkmenistan, Uzbekistan] #自己加引号\n",
        "\n"
      ],
      "metadata": {
        "colab": {
          "base_uri": "https://localhost:8080/",
          "height": 227
        },
        "id": "ay9VnxAr96KQ",
        "outputId": "18a764ed-a48e-4240-e37c-6533a0e065b2"
      },
      "execution_count": null,
      "outputs": [
        {
          "output_type": "error",
          "ename": "NameError",
          "evalue": "ignored",
          "traceback": [
            "\u001b[0;31m---------------------------------------------------------------------------\u001b[0m",
            "\u001b[0;31mNameError\u001b[0m                                 Traceback (most recent call last)",
            "\u001b[0;32m<ipython-input-97-ae828fafa061>\u001b[0m in \u001b[0;36m<module>\u001b[0;34m()\u001b[0m\n\u001b[1;32m     10\u001b[0m \u001b[0;34m\u001b[0m\u001b[0m\n\u001b[1;32m     11\u001b[0m \u001b[0;34m\u001b[0m\u001b[0m\n\u001b[0;32m---> 12\u001b[0;31m \u001b[0mCentral_Asia\u001b[0m \u001b[0;34m=\u001b[0m \u001b[0;34m[\u001b[0m\u001b[0mKazakhstan\u001b[0m\u001b[0;34m,\u001b[0m \u001b[0mKyrgyzstan\u001b[0m\u001b[0;34m,\u001b[0m \u001b[0mTajikistan\u001b[0m\u001b[0;34m,\u001b[0m \u001b[0mTurkmenistan\u001b[0m\u001b[0;34m,\u001b[0m \u001b[0mUzbekistan\u001b[0m\u001b[0;34m]\u001b[0m \u001b[0;31m#自己加引号\u001b[0m\u001b[0;34m\u001b[0m\u001b[0;34m\u001b[0m\u001b[0m\n\u001b[0m\u001b[1;32m     13\u001b[0m \u001b[0;34m\u001b[0m\u001b[0m\n",
            "\u001b[0;31mNameError\u001b[0m: name 'Kazakhstan' is not defined"
          ]
        }
      ]
    },
    {
      "cell_type": "code",
      "source": [
        "valid_cell_1.printSchema()\n",
        "\n"
      ],
      "metadata": {
        "colab": {
          "base_uri": "https://localhost:8080/"
        },
        "id": "5HQuJbjtBQnj",
        "outputId": "5373d543-a7c3-443c-e192-c6423e1481d6"
      },
      "execution_count": null,
      "outputs": [
        {
          "output_type": "stream",
          "name": "stdout",
          "text": [
            "root\n",
            " |-- Country Name: string (nullable = true)\n",
            " |-- Series Name: string (nullable = true)\n",
            " |-- 2010 [YR2010]: string (nullable = true)\n",
            "\n"
          ]
        }
      ]
    },
    {
      "cell_type": "code",
      "source": [
        "valid_cell_SSA = valid_cell_1[valid_cell_1[\"Country Name\"].isin(Sub_Saharan_Africa)]\n",
        "valid_cell_SSA.show()"
      ],
      "metadata": {
        "colab": {
          "base_uri": "https://localhost:8080/"
        },
        "id": "O5UY8XgtE6J6",
        "outputId": "d9b6a1c7-2360-41f7-fbf1-0bb21bfe362d"
      },
      "execution_count": null,
      "outputs": [
        {
          "output_type": "stream",
          "name": "stdout",
          "text": [
            "+--------------------+--------------------+------------------+\n",
            "|        Country Name|         Series Name|     2010 [YR2010]|\n",
            "+--------------------+--------------------+------------------+\n",
            "|              Angola|Employers, female...|  2.37400007247925|\n",
            "|               Benin|Employers, female...| 0.538999974727631|\n",
            "|            Botswana|Employers, female...|  2.57100009918213|\n",
            "|        Burkina Faso|Employers, female...| 0.289000004529953|\n",
            "|             Burundi|Employers, female...| 0.398000001907349|\n",
            "|            Cameroon|Employers, female...|  3.26699995994568|\n",
            "|Central African R...|Employers, female...| 0.574000000953674|\n",
            "|                Chad|Employers, female...|0.0820000022649765|\n",
            "|             Comoros|Employers, female...|  4.36600017547607|\n",
            "|       Cote d'Ivoire|Employers, female...| 0.648000001907349|\n",
            "|            Djibouti|Employers, female...|  1.29700005054474|\n",
            "|   Equatorial Guinea|Employers, female...|  2.43300008773804|\n",
            "|             Eritrea|Employers, female...|  1.50100004673004|\n",
            "|            Ethiopia|Employers, female...| 0.133000001311302|\n",
            "|               Gabon|Employers, female...|  1.40699994564056|\n",
            "|               Ghana|Employers, female...|   4.3769998550415|\n",
            "|              Guinea|Employers, female...|  1.32000005245209|\n",
            "|       Guinea-Bissau|Employers, female...| 0.628000020980835|\n",
            "|               Kenya|Employers, female...|  7.00500011444092|\n",
            "|             Lesotho|Employers, female...| 0.433999985456467|\n",
            "+--------------------+--------------------+------------------+\n",
            "only showing top 20 rows\n",
            "\n"
          ]
        }
      ]
    },
    {
      "cell_type": "code",
      "source": [
        "print(type(valid_cell_SSA))\n",
        "SSA = valid_cell_SSA.sort(['2010 [YR2010]'], ascending=[0])\n",
        "SSA.show()\n",
        "\n",
        "#DataFrame.sort_values(by[, ascending, …])  Sort by the values along either axis. #版本问题，colab 用不了"
      ],
      "metadata": {
        "colab": {
          "base_uri": "https://localhost:8080/"
        },
        "id": "VtyLEAbEFbqU",
        "outputId": "6b8ebee4-09ac-47fa-d112-46b29df346b7"
      },
      "execution_count": null,
      "outputs": [
        {
          "output_type": "stream",
          "name": "stdout",
          "text": [
            "<class 'pyspark.sql.dataframe.DataFrame'>\n",
            "+-----------------+--------------------+----------------+\n",
            "|     Country Name|         Series Name|   2010 [YR2010]|\n",
            "+-----------------+--------------------+----------------+\n",
            "|            Kenya|Employers, female...|7.00500011444092|\n",
            "|            Ghana|Employers, female...| 4.3769998550415|\n",
            "|          Comoros|Employers, female...|4.36600017547607|\n",
            "|         Cameroon|Employers, female...|3.26699995994568|\n",
            "|     South Africa|Employers, female...| 2.8510000705719|\n",
            "|      South Sudan|Employers, female...|2.63299989700317|\n",
            "|     Sierra Leone|Employers, female...|2.59999990463257|\n",
            "|         Botswana|Employers, female...|2.57100009918213|\n",
            "|Equatorial Guinea|Employers, female...|2.43300008773804|\n",
            "|           Angola|Employers, female...|2.37400007247925|\n",
            "|           Uganda|Employers, female...|2.01500010490417|\n",
            "|            Sudan|Employers, female...|1.92999994754791|\n",
            "|       Mauritania|Employers, female...|1.82700002193451|\n",
            "|        Mauritius|Employers, female...|1.79499995708466|\n",
            "|          Liberia|Employers, female...|1.77999997138977|\n",
            "|          Eritrea|Employers, female...|1.50100004673004|\n",
            "|            Gabon|Employers, female...|1.40699994564056|\n",
            "|          Senegal|Employers, female...| 1.3400000333786|\n",
            "|           Guinea|Employers, female...|1.32000005245209|\n",
            "|         Djibouti|Employers, female...|1.29700005054474|\n",
            "+-----------------+--------------------+----------------+\n",
            "only showing top 20 rows\n",
            "\n"
          ]
        }
      ]
    },
    {
      "cell_type": "code",
      "source": [
        "SSA_best = SSA.first()\n",
        "print(SSA_best)"
      ],
      "metadata": {
        "colab": {
          "base_uri": "https://localhost:8080/"
        },
        "id": "gjO69Y2TBSA4",
        "outputId": "f9994ff3-0720-4a45-fea6-c4d5a3b49330"
      },
      "execution_count": null,
      "outputs": [
        {
          "output_type": "stream",
          "name": "stdout",
          "text": [
            "Row(Country Name='Kenya', Series Name='Employers, female (% of female employment) (modeled ILO estimate)', 2010 [YR2010]='7.00500011444092')\n"
          ]
        }
      ]
    },
    {
      "cell_type": "code",
      "source": [
        ""
      ],
      "metadata": {
        "id": "XOSCOohpEHj3"
      },
      "execution_count": null,
      "outputs": []
    }
  ]
}